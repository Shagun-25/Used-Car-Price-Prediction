{
 "cells": [
  {
   "cell_type": "markdown",
   "id": "680bb0c2",
   "metadata": {},
   "source": [
    "# Linear Regression- Code Explanation"
   ]
  },
  {
   "cell_type": "markdown",
   "id": "d7fc1279",
   "metadata": {},
   "source": [
    "### Imports"
   ]
  },
  {
   "cell_type": "code",
   "execution_count": 15,
   "id": "81ddd07f",
   "metadata": {},
   "outputs": [],
   "source": [
    "#Importing Libraries\n",
    "import pickle\n",
    "import pandas as pd\n",
    "import seaborn as sns\n",
    "import statsmodels.api as sm\n",
    "import matplotlib.pyplot as plt\n",
    "import statsmodels.formula.api as smf\n",
    "from sklearn.linear_model import LinearRegression"
   ]
  },
  {
   "cell_type": "markdown",
   "id": "d4fe9327",
   "metadata": {},
   "source": [
    "### Reading the dataset\n",
    "\n",
    "**Dataset Name:** Used car price dataset\n",
    "\n",
    "**Dataset Source:** https://www.kaggle.com/datasets/kukuroo3/used-car-price-dataset-competition-format"
   ]
  },
  {
   "cell_type": "code",
   "execution_count": 2,
   "id": "f481d637",
   "metadata": {},
   "outputs": [],
   "source": [
    "# Loading the dataset\n",
    "cars = pd.read_csv(\"cars.csv\")"
   ]
  },
  {
   "cell_type": "markdown",
   "id": "30cf7635",
   "metadata": {},
   "source": [
    "### Exploring the dataset"
   ]
  },
  {
   "cell_type": "code",
   "execution_count": 3,
   "id": "4d5402c2",
   "metadata": {},
   "outputs": [
    {
     "data": {
      "text/plain": [
       "Index(['price', 'brand', 'year', 'transmission', 'fuelType', 'tax', 'mileage',\n",
       "       'engineSize'],\n",
       "      dtype='object')"
      ]
     },
     "execution_count": 3,
     "metadata": {},
     "output_type": "execute_result"
    }
   ],
   "source": [
    "# Displaying the columns\n",
    "cars.columns"
   ]
  },
  {
   "cell_type": "code",
   "execution_count": 4,
   "id": "6ea945f6",
   "metadata": {},
   "outputs": [
    {
     "data": {
      "text/html": [
       "<div>\n",
       "<style scoped>\n",
       "    .dataframe tbody tr th:only-of-type {\n",
       "        vertical-align: middle;\n",
       "    }\n",
       "\n",
       "    .dataframe tbody tr th {\n",
       "        vertical-align: top;\n",
       "    }\n",
       "\n",
       "    .dataframe thead th {\n",
       "        text-align: right;\n",
       "    }\n",
       "</style>\n",
       "<table border=\"1\" class=\"dataframe\">\n",
       "  <thead>\n",
       "    <tr style=\"text-align: right;\">\n",
       "      <th></th>\n",
       "      <th>price</th>\n",
       "      <th>brand</th>\n",
       "      <th>year</th>\n",
       "      <th>transmission</th>\n",
       "      <th>fuelType</th>\n",
       "      <th>tax</th>\n",
       "      <th>mileage</th>\n",
       "      <th>engineSize</th>\n",
       "    </tr>\n",
       "  </thead>\n",
       "  <tbody>\n",
       "    <tr>\n",
       "      <th>0</th>\n",
       "      <td>31995</td>\n",
       "      <td>hyundi</td>\n",
       "      <td>2019</td>\n",
       "      <td>Semi-Auto</td>\n",
       "      <td>Diesel</td>\n",
       "      <td>145.0</td>\n",
       "      <td>39.8</td>\n",
       "      <td>2.2</td>\n",
       "    </tr>\n",
       "    <tr>\n",
       "      <th>1</th>\n",
       "      <td>7700</td>\n",
       "      <td>vauxhall</td>\n",
       "      <td>2015</td>\n",
       "      <td>Manual</td>\n",
       "      <td>Diesel</td>\n",
       "      <td>125.0</td>\n",
       "      <td>60.1</td>\n",
       "      <td>2.0</td>\n",
       "    </tr>\n",
       "    <tr>\n",
       "      <th>2</th>\n",
       "      <td>58990</td>\n",
       "      <td>audi</td>\n",
       "      <td>2019</td>\n",
       "      <td>Automatic</td>\n",
       "      <td>Petrol</td>\n",
       "      <td>145.0</td>\n",
       "      <td>29.1</td>\n",
       "      <td>2.9</td>\n",
       "    </tr>\n",
       "    <tr>\n",
       "      <th>3</th>\n",
       "      <td>12999</td>\n",
       "      <td>vw</td>\n",
       "      <td>2016</td>\n",
       "      <td>Automatic</td>\n",
       "      <td>Diesel</td>\n",
       "      <td>30.0</td>\n",
       "      <td>57.6</td>\n",
       "      <td>2.0</td>\n",
       "    </tr>\n",
       "    <tr>\n",
       "      <th>4</th>\n",
       "      <td>16990</td>\n",
       "      <td>skoda</td>\n",
       "      <td>2020</td>\n",
       "      <td>Semi-Auto</td>\n",
       "      <td>Petrol</td>\n",
       "      <td>145.0</td>\n",
       "      <td>47.1</td>\n",
       "      <td>1.0</td>\n",
       "    </tr>\n",
       "  </tbody>\n",
       "</table>\n",
       "</div>"
      ],
      "text/plain": [
       "   price     brand  year transmission fuelType    tax  mileage  engineSize\n",
       "0  31995    hyundi  2019    Semi-Auto   Diesel  145.0     39.8         2.2\n",
       "1   7700  vauxhall  2015       Manual   Diesel  125.0     60.1         2.0\n",
       "2  58990      audi  2019    Automatic   Petrol  145.0     29.1         2.9\n",
       "3  12999        vw  2016    Automatic   Diesel   30.0     57.6         2.0\n",
       "4  16990     skoda  2020    Semi-Auto   Petrol  145.0     47.1         1.0"
      ]
     },
     "execution_count": 4,
     "metadata": {},
     "output_type": "execute_result"
    }
   ],
   "source": [
    "# Showing the top 5 rows of the dataset\n",
    "cars.head()"
   ]
  },
  {
   "cell_type": "code",
   "execution_count": 5,
   "id": "cb4f0874",
   "metadata": {},
   "outputs": [
    {
     "name": "stdout",
     "output_type": "stream",
     "text": [
      "<class 'pandas.core.frame.DataFrame'>\n",
      "RangeIndex: 4960 entries, 0 to 4959\n",
      "Data columns (total 8 columns):\n",
      " #   Column        Non-Null Count  Dtype  \n",
      "---  ------        --------------  -----  \n",
      " 0   price         4960 non-null   int64  \n",
      " 1   brand         4960 non-null   object \n",
      " 2   year          4960 non-null   int64  \n",
      " 3   transmission  4960 non-null   object \n",
      " 4   fuelType      4960 non-null   object \n",
      " 5   tax           4960 non-null   float64\n",
      " 6   mileage       4960 non-null   float64\n",
      " 7   engineSize    4960 non-null   float64\n",
      "dtypes: float64(3), int64(2), object(3)\n",
      "memory usage: 310.1+ KB\n"
     ]
    }
   ],
   "source": [
    "# Showing the data info\n",
    "cars.info()"
   ]
  },
  {
   "attachments": {
    "linear-regression-in-machine-learning.png": {
     "image/png": "[encoded data removed]"
    }
   },
   "cell_type": "markdown",
   "id": "6b0cf7a1",
   "metadata": {},
   "source": [
    "## Linear regression\n",
    "\n",
    "![linear-regression-in-machine-learning.png](attachment:linear-regression-in-machine-learning.png)\n",
    "\n",
    "Linear regression is a statistical technique used to model the relationship between a dependent variable (usually denoted as \"y\") and one or more independent variables (usually denoted as \"x\"). It assumes a linear association between the variables, meaning that changes in the independent variable(s) result in a proportional change in the dependent variable. The goal of linear regression is to find the best-fitting line (or hyperplane in multiple dimensions) that minimizes the difference between the observed and predicted values. This is typically done by minimizing the sum of squared differences, a method known as least squares regression."
   ]
  },
  {
   "cell_type": "markdown",
   "id": "563ec9c3",
   "metadata": {},
   "source": [
    "Simple linear regression involves the relationship between one independent variable and a dependent variable, represented by a straight line. \n",
    "\n",
    "In contrast, multiple linear regression considers more than one independent variable, allowing for a more complex relationship between them and the dependent variable, often represented by a hyperplane in higher dimensions. This enables the model to capture the combined effect of multiple factors on the outcome variable.\n",
    "\n",
    "**Formula:** $$  y = \\beta_0 + \\beta_1 X_1 + \\beta_2 X_2 + \\ldots + \\beta_p X_p + \\epsilon \\ $$"
   ]
  },
  {
   "cell_type": "markdown",
   "id": "061601f1",
   "metadata": {},
   "source": [
    "## Significance of features"
   ]
  },
  {
   "cell_type": "markdown",
   "id": "dc6f13ce",
   "metadata": {},
   "source": [
    "### Analyzing the relationship between mileage and car price"
   ]
  },
  {
   "cell_type": "code",
   "execution_count": 6,
   "id": "ec7965fc",
   "metadata": {},
   "outputs": [
    {
     "name": "stdout",
     "output_type": "stream",
     "text": [
      "                            OLS Regression Results                            \n",
      "==============================================================================\n",
      "Dep. Variable:                  price   R-squared:                       0.032\n",
      "Model:                            OLS   Adj. R-squared:                  0.031\n",
      "Method:                 Least Squares   F-statistic:                     162.1\n",
      "Date:                Sun, 01 Oct 2023   Prob (F-statistic):           1.44e-36\n",
      "Time:                        21:42:09   Log-Likelihood:                -55097.\n",
      "No. Observations:                4960   AIC:                         1.102e+05\n",
      "Df Residuals:                    4958   BIC:                         1.102e+05\n",
      "Df Model:                           1                                         \n",
      "Covariance Type:            nonrobust                                         \n",
      "==============================================================================\n",
      "                 coef    std err          t      P>|t|      [0.025      0.975]\n",
      "------------------------------------------------------------------------------\n",
      "const       2.758e+04    396.170     69.626      0.000    2.68e+04    2.84e+04\n",
      "mileage      -81.6726      6.414    -12.733      0.000     -94.247     -69.098\n",
      "==============================================================================\n",
      "Omnibus:                     2056.870   Durbin-Watson:                   1.974\n",
      "Prob(Omnibus):                  0.000   Jarque-Bera (JB):            11891.106\n",
      "Skew:                           1.901   Prob(JB):                         0.00\n",
      "Kurtosis:                       9.563   Cond. No.                         107.\n",
      "==============================================================================\n",
      "\n",
      "Notes:\n",
      "[1] Standard Errors assume that the covariance matrix of the errors is correctly specified.\n"
     ]
    }
   ],
   "source": [
    "# Analyzing effect of mileage on car prices\n",
    "X = cars['mileage']\n",
    "y = cars['price']\n",
    "X = sm.add_constant(X)\n",
    "model = sm.OLS(y, X).fit()\n",
    "print(model.summary())"
   ]
  },
  {
   "cell_type": "markdown",
   "id": "4bebb2f2",
   "metadata": {},
   "source": [
    "**Observations:**\n",
    "\n",
    "1. Expensive cars tend to have lesser mileage.\n",
    "2. Mileage is a significant predictor of Car Price.\n",
    "\n",
    "Formula: $$ CarPrice = 28316.30 + -96.99*Mileage $$"
   ]
  },
  {
   "cell_type": "markdown",
   "id": "7f438029",
   "metadata": {},
   "source": [
    "### Analyzing the effect of mileage, tax, engine size, year, fuel type and transmission on car price"
   ]
  },
  {
   "cell_type": "code",
   "execution_count": 7,
   "id": "0457c091",
   "metadata": {
    "scrolled": false
   },
   "outputs": [
    {
     "data": {
      "text/html": [
       "<table class=\"simpletable\">\n",
       "<caption>OLS Regression Results</caption>\n",
       "<tr>\n",
       "  <th>Dep. Variable:</th>          <td>price</td>      <th>  R-squared:         </th> <td>   0.670</td> \n",
       "</tr>\n",
       "<tr>\n",
       "  <th>Model:</th>                   <td>OLS</td>       <th>  Adj. R-squared:    </th> <td>   0.670</td> \n",
       "</tr>\n",
       "<tr>\n",
       "  <th>Method:</th>             <td>Least Squares</td>  <th>  F-statistic:       </th> <td>   914.7</td> \n",
       "</tr>\n",
       "<tr>\n",
       "  <th>Date:</th>             <td>Sun, 01 Oct 2023</td> <th>  Prob (F-statistic):</th>  <td>  0.00</td>  \n",
       "</tr>\n",
       "<tr>\n",
       "  <th>Time:</th>                 <td>21:42:10</td>     <th>  Log-Likelihood:    </th> <td> -52424.</td> \n",
       "</tr>\n",
       "<tr>\n",
       "  <th>No. Observations:</th>      <td>  4960</td>      <th>  AIC:               </th> <td>1.049e+05</td>\n",
       "</tr>\n",
       "<tr>\n",
       "  <th>Df Residuals:</th>          <td>  4948</td>      <th>  BIC:               </th> <td>1.050e+05</td>\n",
       "</tr>\n",
       "<tr>\n",
       "  <th>Df Model:</th>              <td>    11</td>      <th>                     </th>     <td> </td>    \n",
       "</tr>\n",
       "<tr>\n",
       "  <th>Covariance Type:</th>      <td>nonrobust</td>    <th>                     </th>     <td> </td>    \n",
       "</tr>\n",
       "</table>\n",
       "<table class=\"simpletable\">\n",
       "<tr>\n",
       "                <td></td>                  <th>coef</th>     <th>std err</th>      <th>t</th>      <th>P>|t|</th>  <th>[0.025</th>    <th>0.975]</th>  \n",
       "</tr>\n",
       "<tr>\n",
       "  <th>Intercept</th>                    <td>-5.198e+06</td> <td>    1e+05</td> <td>  -51.766</td> <td> 0.000</td> <td> -5.4e+06</td> <td>   -5e+06</td>\n",
       "</tr>\n",
       "<tr>\n",
       "  <th>C(transmission)[T.Manual]</th>    <td>-5372.0273</td> <td>  374.991</td> <td>  -14.326</td> <td> 0.000</td> <td>-6107.175</td> <td>-4636.879</td>\n",
       "</tr>\n",
       "<tr>\n",
       "  <th>C(transmission)[T.Other]</th>     <td>-3373.7556</td> <td> 9440.929</td> <td>   -0.357</td> <td> 0.721</td> <td>-2.19e+04</td> <td> 1.51e+04</td>\n",
       "</tr>\n",
       "<tr>\n",
       "  <th>C(transmission)[T.Semi-Auto]</th> <td> 1282.5317</td> <td>  364.555</td> <td>    3.518</td> <td> 0.000</td> <td>  567.843</td> <td> 1997.220</td>\n",
       "</tr>\n",
       "<tr>\n",
       "  <th>C(fuelType)[T.Electric]</th>      <td> 9149.1824</td> <td> 6975.490</td> <td>    1.312</td> <td> 0.190</td> <td>-4525.872</td> <td> 2.28e+04</td>\n",
       "</tr>\n",
       "<tr>\n",
       "  <th>C(fuelType)[T.Hybrid]</th>        <td> 2366.4596</td> <td>  861.189</td> <td>    2.748</td> <td> 0.006</td> <td>  678.146</td> <td> 4054.773</td>\n",
       "</tr>\n",
       "<tr>\n",
       "  <th>C(fuelType)[T.Other]</th>         <td>  447.5330</td> <td> 1969.788</td> <td>    0.227</td> <td> 0.820</td> <td>-3414.126</td> <td> 4309.192</td>\n",
       "</tr>\n",
       "<tr>\n",
       "  <th>C(fuelType)[T.Petrol]</th>        <td> 3489.1807</td> <td>  296.342</td> <td>   11.774</td> <td> 0.000</td> <td> 2908.219</td> <td> 4070.142</td>\n",
       "</tr>\n",
       "<tr>\n",
       "  <th>mileage</th>                      <td>   14.6378</td> <td>    4.997</td> <td>    2.929</td> <td> 0.003</td> <td>    4.842</td> <td>   24.434</td>\n",
       "</tr>\n",
       "<tr>\n",
       "  <th>tax</th>                          <td>  -14.9635</td> <td>    1.994</td> <td>   -7.505</td> <td> 0.000</td> <td>  -18.872</td> <td>  -11.055</td>\n",
       "</tr>\n",
       "<tr>\n",
       "  <th>engineSize</th>                   <td> 1.237e+04</td> <td>  225.913</td> <td>   54.757</td> <td> 0.000</td> <td> 1.19e+04</td> <td> 1.28e+04</td>\n",
       "</tr>\n",
       "<tr>\n",
       "  <th>year</th>                         <td> 2577.0954</td> <td>   49.740</td> <td>   51.811</td> <td> 0.000</td> <td> 2479.583</td> <td> 2674.608</td>\n",
       "</tr>\n",
       "</table>\n",
       "<table class=\"simpletable\">\n",
       "<tr>\n",
       "  <th>Omnibus:</th>       <td>2416.232</td> <th>  Durbin-Watson:     </th> <td>   2.025</td> \n",
       "</tr>\n",
       "<tr>\n",
       "  <th>Prob(Omnibus):</th>  <td> 0.000</td>  <th>  Jarque-Bera (JB):  </th> <td>29528.076</td>\n",
       "</tr>\n",
       "<tr>\n",
       "  <th>Skew:</th>           <td> 2.020</td>  <th>  Prob(JB):          </th> <td>    0.00</td> \n",
       "</tr>\n",
       "<tr>\n",
       "  <th>Kurtosis:</th>       <td>14.250</td>  <th>  Cond. No.          </th> <td>1.52e+06</td> \n",
       "</tr>\n",
       "</table><br/><br/>Notes:<br/>[1] Standard Errors assume that the covariance matrix of the errors is correctly specified.<br/>[2] The condition number is large, 1.52e+06. This might indicate that there are<br/>strong multicollinearity or other numerical problems."
      ],
      "text/latex": [
       "\\begin{center}\n",
       "\\begin{tabular}{lclc}\n",
       "\\toprule\n",
       "\\textbf{Dep. Variable:}               &      price       & \\textbf{  R-squared:         } &     0.670   \\\\\n",
       "\\textbf{Model:}                       &       OLS        & \\textbf{  Adj. R-squared:    } &     0.670   \\\\\n",
       "\\textbf{Method:}                      &  Least Squares   & \\textbf{  F-statistic:       } &     914.7   \\\\\n",
       "\\textbf{Date:}                        & Sun, 01 Oct 2023 & \\textbf{  Prob (F-statistic):} &     0.00    \\\\\n",
       "\\textbf{Time:}                        &     21:42:10     & \\textbf{  Log-Likelihood:    } &   -52424.   \\\\\n",
       "\\textbf{No. Observations:}            &        4960      & \\textbf{  AIC:               } & 1.049e+05   \\\\\n",
       "\\textbf{Df Residuals:}                &        4948      & \\textbf{  BIC:               } & 1.050e+05   \\\\\n",
       "\\textbf{Df Model:}                    &          11      & \\textbf{                     } &             \\\\\n",
       "\\textbf{Covariance Type:}             &    nonrobust     & \\textbf{                     } &             \\\\\n",
       "\\bottomrule\n",
       "\\end{tabular}\n",
       "\\begin{tabular}{lcccccc}\n",
       "                                      & \\textbf{coef} & \\textbf{std err} & \\textbf{t} & \\textbf{P$> |$t$|$} & \\textbf{[0.025} & \\textbf{0.975]}  \\\\\n",
       "\\midrule\n",
       "\\textbf{Intercept}                    &   -5.198e+06  &        1e+05     &   -51.766  &         0.000        &     -5.4e+06    &       -5e+06     \\\\\n",
       "\\textbf{C(transmission)[T.Manual]}    &   -5372.0273  &      374.991     &   -14.326  &         0.000        &    -6107.175    &    -4636.879     \\\\\n",
       "\\textbf{C(transmission)[T.Other]}     &   -3373.7556  &     9440.929     &    -0.357  &         0.721        &    -2.19e+04    &     1.51e+04     \\\\\n",
       "\\textbf{C(transmission)[T.Semi-Auto]} &    1282.5317  &      364.555     &     3.518  &         0.000        &      567.843    &     1997.220     \\\\\n",
       "\\textbf{C(fuelType)[T.Electric]}      &    9149.1824  &     6975.490     &     1.312  &         0.190        &    -4525.872    &     2.28e+04     \\\\\n",
       "\\textbf{C(fuelType)[T.Hybrid]}        &    2366.4596  &      861.189     &     2.748  &         0.006        &      678.146    &     4054.773     \\\\\n",
       "\\textbf{C(fuelType)[T.Other]}         &     447.5330  &     1969.788     &     0.227  &         0.820        &    -3414.126    &     4309.192     \\\\\n",
       "\\textbf{C(fuelType)[T.Petrol]}        &    3489.1807  &      296.342     &    11.774  &         0.000        &     2908.219    &     4070.142     \\\\\n",
       "\\textbf{mileage}                      &      14.6378  &        4.997     &     2.929  &         0.003        &        4.842    &       24.434     \\\\\n",
       "\\textbf{tax}                          &     -14.9635  &        1.994     &    -7.505  &         0.000        &      -18.872    &      -11.055     \\\\\n",
       "\\textbf{engineSize}                   &    1.237e+04  &      225.913     &    54.757  &         0.000        &     1.19e+04    &     1.28e+04     \\\\\n",
       "\\textbf{year}                         &    2577.0954  &       49.740     &    51.811  &         0.000        &     2479.583    &     2674.608     \\\\\n",
       "\\bottomrule\n",
       "\\end{tabular}\n",
       "\\begin{tabular}{lclc}\n",
       "\\textbf{Omnibus:}       & 2416.232 & \\textbf{  Durbin-Watson:     } &     2.025  \\\\\n",
       "\\textbf{Prob(Omnibus):} &   0.000  & \\textbf{  Jarque-Bera (JB):  } & 29528.076  \\\\\n",
       "\\textbf{Skew:}          &   2.020  & \\textbf{  Prob(JB):          } &      0.00  \\\\\n",
       "\\textbf{Kurtosis:}      &  14.250  & \\textbf{  Cond. No.          } &  1.52e+06  \\\\\n",
       "\\bottomrule\n",
       "\\end{tabular}\n",
       "%\\caption{OLS Regression Results}\n",
       "\\end{center}\n",
       "\n",
       "Notes: \\newline\n",
       " [1] Standard Errors assume that the covariance matrix of the errors is correctly specified. \\newline\n",
       " [2] The condition number is large, 1.52e+06. This might indicate that there are \\newline\n",
       " strong multicollinearity or other numerical problems."
      ],
      "text/plain": [
       "<class 'statsmodels.iolib.summary.Summary'>\n",
       "\"\"\"\n",
       "                            OLS Regression Results                            \n",
       "==============================================================================\n",
       "Dep. Variable:                  price   R-squared:                       0.670\n",
       "Model:                            OLS   Adj. R-squared:                  0.670\n",
       "Method:                 Least Squares   F-statistic:                     914.7\n",
       "Date:                Sun, 01 Oct 2023   Prob (F-statistic):               0.00\n",
       "Time:                        21:42:10   Log-Likelihood:                -52424.\n",
       "No. Observations:                4960   AIC:                         1.049e+05\n",
       "Df Residuals:                    4948   BIC:                         1.050e+05\n",
       "Df Model:                          11                                         \n",
       "Covariance Type:            nonrobust                                         \n",
       "================================================================================================\n",
       "                                   coef    std err          t      P>|t|      [0.025      0.975]\n",
       "------------------------------------------------------------------------------------------------\n",
       "Intercept                    -5.198e+06      1e+05    -51.766      0.000    -5.4e+06      -5e+06\n",
       "C(transmission)[T.Manual]    -5372.0273    374.991    -14.326      0.000   -6107.175   -4636.879\n",
       "C(transmission)[T.Other]     -3373.7556   9440.929     -0.357      0.721   -2.19e+04    1.51e+04\n",
       "C(transmission)[T.Semi-Auto]  1282.5317    364.555      3.518      0.000     567.843    1997.220\n",
       "C(fuelType)[T.Electric]       9149.1824   6975.490      1.312      0.190   -4525.872    2.28e+04\n",
       "C(fuelType)[T.Hybrid]         2366.4596    861.189      2.748      0.006     678.146    4054.773\n",
       "C(fuelType)[T.Other]           447.5330   1969.788      0.227      0.820   -3414.126    4309.192\n",
       "C(fuelType)[T.Petrol]         3489.1807    296.342     11.774      0.000    2908.219    4070.142\n",
       "mileage                         14.6378      4.997      2.929      0.003       4.842      24.434\n",
       "tax                            -14.9635      1.994     -7.505      0.000     -18.872     -11.055\n",
       "engineSize                    1.237e+04    225.913     54.757      0.000    1.19e+04    1.28e+04\n",
       "year                          2577.0954     49.740     51.811      0.000    2479.583    2674.608\n",
       "==============================================================================\n",
       "Omnibus:                     2416.232   Durbin-Watson:                   2.025\n",
       "Prob(Omnibus):                  0.000   Jarque-Bera (JB):            29528.076\n",
       "Skew:                           2.020   Prob(JB):                         0.00\n",
       "Kurtosis:                      14.250   Cond. No.                     1.52e+06\n",
       "==============================================================================\n",
       "\n",
       "Notes:\n",
       "[1] Standard Errors assume that the covariance matrix of the errors is correctly specified.\n",
       "[2] The condition number is large, 1.52e+06. This might indicate that there are\n",
       "strong multicollinearity or other numerical problems.\n",
       "\"\"\""
      ]
     },
     "execution_count": 7,
     "metadata": {},
     "output_type": "execute_result"
    }
   ],
   "source": [
    "# Analyzing the combined effect of variables on car prices\n",
    "reg = smf.ols('price~mileage+tax+C(transmission)+C(fuelType)+engineSize+year', data=cars).fit()\n",
    "reg.summary()"
   ]
  },
  {
   "cell_type": "markdown",
   "id": "8d067111",
   "metadata": {},
   "source": [
    "**Observations:**\n",
    "\n",
    "1. The less common transmission types and fuel types do not have much significance on Car Price.\n",
    "2. Electric fuel type cars are more expensive than other fuel type cars.\n",
    "3. Manual transmission cars are cheaper than automatic transmission cars.\n",
    "4. Engine Size is a significant predictor of car price with a positive relationship."
   ]
  },
  {
   "cell_type": "markdown",
   "id": "e2573a4b",
   "metadata": {},
   "source": [
    "### Sequential F-Test"
   ]
  },
  {
   "cell_type": "code",
   "execution_count": 8,
   "id": "c9402ed1",
   "metadata": {},
   "outputs": [
    {
     "data": {
      "text/html": [
       "<div>\n",
       "<style scoped>\n",
       "    .dataframe tbody tr th:only-of-type {\n",
       "        vertical-align: middle;\n",
       "    }\n",
       "\n",
       "    .dataframe tbody tr th {\n",
       "        vertical-align: top;\n",
       "    }\n",
       "\n",
       "    .dataframe thead th {\n",
       "        text-align: right;\n",
       "    }\n",
       "</style>\n",
       "<table border=\"1\" class=\"dataframe\">\n",
       "  <thead>\n",
       "    <tr style=\"text-align: right;\">\n",
       "      <th></th>\n",
       "      <th>df</th>\n",
       "      <th>sum_sq</th>\n",
       "      <th>mean_sq</th>\n",
       "      <th>F</th>\n",
       "      <th>PR(&gt;F)</th>\n",
       "    </tr>\n",
       "  </thead>\n",
       "  <tbody>\n",
       "    <tr>\n",
       "      <th>C(transmission)</th>\n",
       "      <td>3.0</td>\n",
       "      <td>3.633522e+11</td>\n",
       "      <td>1.211174e+11</td>\n",
       "      <td>1361.867934</td>\n",
       "      <td>0.000000e+00</td>\n",
       "    </tr>\n",
       "    <tr>\n",
       "      <th>C(fuelType)</th>\n",
       "      <td>4.0</td>\n",
       "      <td>8.367729e+09</td>\n",
       "      <td>2.091932e+09</td>\n",
       "      <td>23.522097</td>\n",
       "      <td>2.719083e-19</td>\n",
       "    </tr>\n",
       "    <tr>\n",
       "      <th>mileage</th>\n",
       "      <td>1.0</td>\n",
       "      <td>2.090417e+10</td>\n",
       "      <td>2.090417e+10</td>\n",
       "      <td>235.050604</td>\n",
       "      <td>7.231727e-52</td>\n",
       "    </tr>\n",
       "    <tr>\n",
       "      <th>tax</th>\n",
       "      <td>1.0</td>\n",
       "      <td>2.808124e+08</td>\n",
       "      <td>2.808124e+08</td>\n",
       "      <td>3.157510</td>\n",
       "      <td>7.563981e-02</td>\n",
       "    </tr>\n",
       "    <tr>\n",
       "      <th>engineSize</th>\n",
       "      <td>1.0</td>\n",
       "      <td>2.631736e+11</td>\n",
       "      <td>2.631736e+11</td>\n",
       "      <td>2959.175383</td>\n",
       "      <td>0.000000e+00</td>\n",
       "    </tr>\n",
       "    <tr>\n",
       "      <th>year</th>\n",
       "      <td>1.0</td>\n",
       "      <td>2.387372e+11</td>\n",
       "      <td>2.387372e+11</td>\n",
       "      <td>2684.408382</td>\n",
       "      <td>0.000000e+00</td>\n",
       "    </tr>\n",
       "    <tr>\n",
       "      <th>Residual</th>\n",
       "      <td>4948.0</td>\n",
       "      <td>4.400492e+11</td>\n",
       "      <td>8.893477e+07</td>\n",
       "      <td>NaN</td>\n",
       "      <td>NaN</td>\n",
       "    </tr>\n",
       "  </tbody>\n",
       "</table>\n",
       "</div>"
      ],
      "text/plain": [
       "                     df        sum_sq       mean_sq            F        PR(>F)\n",
       "C(transmission)     3.0  3.633522e+11  1.211174e+11  1361.867934  0.000000e+00\n",
       "C(fuelType)         4.0  8.367729e+09  2.091932e+09    23.522097  2.719083e-19\n",
       "mileage             1.0  2.090417e+10  2.090417e+10   235.050604  7.231727e-52\n",
       "tax                 1.0  2.808124e+08  2.808124e+08     3.157510  7.563981e-02\n",
       "engineSize          1.0  2.631736e+11  2.631736e+11  2959.175383  0.000000e+00\n",
       "year                1.0  2.387372e+11  2.387372e+11  2684.408382  0.000000e+00\n",
       "Residual         4948.0  4.400492e+11  8.893477e+07          NaN           NaN"
      ]
     },
     "execution_count": 8,
     "metadata": {},
     "output_type": "execute_result"
    }
   ],
   "source": [
    "# Showing the type-1 ANOVA test results\n",
    "anova_results_typ1 = sm.stats.anova_lm(reg, typ=1)\n",
    "anova_results_typ1"
   ]
  },
  {
   "cell_type": "markdown",
   "id": "e8d6398d",
   "metadata": {},
   "source": [
    "### Marginal F-Test"
   ]
  },
  {
   "cell_type": "code",
   "execution_count": 9,
   "id": "0a1143ba",
   "metadata": {},
   "outputs": [
    {
     "data": {
      "text/html": [
       "<div>\n",
       "<style scoped>\n",
       "    .dataframe tbody tr th:only-of-type {\n",
       "        vertical-align: middle;\n",
       "    }\n",
       "\n",
       "    .dataframe tbody tr th {\n",
       "        vertical-align: top;\n",
       "    }\n",
       "\n",
       "    .dataframe thead th {\n",
       "        text-align: right;\n",
       "    }\n",
       "</style>\n",
       "<table border=\"1\" class=\"dataframe\">\n",
       "  <thead>\n",
       "    <tr style=\"text-align: right;\">\n",
       "      <th></th>\n",
       "      <th>sum_sq</th>\n",
       "      <th>df</th>\n",
       "      <th>F</th>\n",
       "      <th>PR(&gt;F)</th>\n",
       "    </tr>\n",
       "  </thead>\n",
       "  <tbody>\n",
       "    <tr>\n",
       "      <th>C(transmission)</th>\n",
       "      <td>2.974857e+10</td>\n",
       "      <td>3.0</td>\n",
       "      <td>111.499584</td>\n",
       "      <td>7.339433e-70</td>\n",
       "    </tr>\n",
       "    <tr>\n",
       "      <th>C(fuelType)</th>\n",
       "      <td>1.305951e+10</td>\n",
       "      <td>4.0</td>\n",
       "      <td>36.710930</td>\n",
       "      <td>2.731887e-30</td>\n",
       "    </tr>\n",
       "    <tr>\n",
       "      <th>mileage</th>\n",
       "      <td>7.631446e+08</td>\n",
       "      <td>1.0</td>\n",
       "      <td>8.580948</td>\n",
       "      <td>3.412502e-03</td>\n",
       "    </tr>\n",
       "    <tr>\n",
       "      <th>tax</th>\n",
       "      <td>5.009444e+09</td>\n",
       "      <td>1.0</td>\n",
       "      <td>56.327172</td>\n",
       "      <td>7.234869e-14</td>\n",
       "    </tr>\n",
       "    <tr>\n",
       "      <th>engineSize</th>\n",
       "      <td>2.666571e+11</td>\n",
       "      <td>1.0</td>\n",
       "      <td>2998.344963</td>\n",
       "      <td>0.000000e+00</td>\n",
       "    </tr>\n",
       "    <tr>\n",
       "      <th>year</th>\n",
       "      <td>2.387372e+11</td>\n",
       "      <td>1.0</td>\n",
       "      <td>2684.408382</td>\n",
       "      <td>0.000000e+00</td>\n",
       "    </tr>\n",
       "    <tr>\n",
       "      <th>Residual</th>\n",
       "      <td>4.400492e+11</td>\n",
       "      <td>4948.0</td>\n",
       "      <td>NaN</td>\n",
       "      <td>NaN</td>\n",
       "    </tr>\n",
       "  </tbody>\n",
       "</table>\n",
       "</div>"
      ],
      "text/plain": [
       "                       sum_sq      df            F        PR(>F)\n",
       "C(transmission)  2.974857e+10     3.0   111.499584  7.339433e-70\n",
       "C(fuelType)      1.305951e+10     4.0    36.710930  2.731887e-30\n",
       "mileage          7.631446e+08     1.0     8.580948  3.412502e-03\n",
       "tax              5.009444e+09     1.0    56.327172  7.234869e-14\n",
       "engineSize       2.666571e+11     1.0  2998.344963  0.000000e+00\n",
       "year             2.387372e+11     1.0  2684.408382  0.000000e+00\n",
       "Residual         4.400492e+11  4948.0          NaN           NaN"
      ]
     },
     "execution_count": 9,
     "metadata": {},
     "output_type": "execute_result"
    }
   ],
   "source": [
    "# Showing the type-2 ANOVA test results\n",
    "anova_results_typ2 = sm.stats.anova_lm(reg, typ=2)\n",
    "anova_results_typ2"
   ]
  },
  {
   "cell_type": "markdown",
   "id": "fd302932",
   "metadata": {},
   "source": [
    "**Obeservations**:\n",
    "1. All variables in the order: [transmission -> fuelType -> mileage -> tax -> engineSize -> year] are significant.\n",
    "2. Each variable is significant given all other variables."
   ]
  },
  {
   "cell_type": "markdown",
   "id": "84a53a6f",
   "metadata": {},
   "source": [
    "## Car Price Prediction"
   ]
  },
  {
   "cell_type": "code",
   "execution_count": 10,
   "id": "26b7689d",
   "metadata": {},
   "outputs": [
    {
     "data": {
      "text/html": [
       "<div>\n",
       "<style scoped>\n",
       "    .dataframe tbody tr th:only-of-type {\n",
       "        vertical-align: middle;\n",
       "    }\n",
       "\n",
       "    .dataframe tbody tr th {\n",
       "        vertical-align: top;\n",
       "    }\n",
       "\n",
       "    .dataframe thead th {\n",
       "        text-align: right;\n",
       "    }\n",
       "</style>\n",
       "<table border=\"1\" class=\"dataframe\">\n",
       "  <thead>\n",
       "    <tr style=\"text-align: right;\">\n",
       "      <th></th>\n",
       "      <th>price</th>\n",
       "      <th>brand</th>\n",
       "      <th>year</th>\n",
       "      <th>transmission</th>\n",
       "      <th>fuelType</th>\n",
       "      <th>tax</th>\n",
       "      <th>mileage</th>\n",
       "      <th>engineSize</th>\n",
       "    </tr>\n",
       "  </thead>\n",
       "  <tbody>\n",
       "    <tr>\n",
       "      <th>0</th>\n",
       "      <td>31995</td>\n",
       "      <td>hyundi</td>\n",
       "      <td>2019</td>\n",
       "      <td>Semi-Auto</td>\n",
       "      <td>Diesel</td>\n",
       "      <td>145.0</td>\n",
       "      <td>39.8</td>\n",
       "      <td>2.2</td>\n",
       "    </tr>\n",
       "    <tr>\n",
       "      <th>1</th>\n",
       "      <td>7700</td>\n",
       "      <td>vauxhall</td>\n",
       "      <td>2015</td>\n",
       "      <td>Manual</td>\n",
       "      <td>Diesel</td>\n",
       "      <td>125.0</td>\n",
       "      <td>60.1</td>\n",
       "      <td>2.0</td>\n",
       "    </tr>\n",
       "    <tr>\n",
       "      <th>2</th>\n",
       "      <td>58990</td>\n",
       "      <td>audi</td>\n",
       "      <td>2019</td>\n",
       "      <td>Automatic</td>\n",
       "      <td>Petrol</td>\n",
       "      <td>145.0</td>\n",
       "      <td>29.1</td>\n",
       "      <td>2.9</td>\n",
       "    </tr>\n",
       "    <tr>\n",
       "      <th>3</th>\n",
       "      <td>12999</td>\n",
       "      <td>vw</td>\n",
       "      <td>2016</td>\n",
       "      <td>Automatic</td>\n",
       "      <td>Diesel</td>\n",
       "      <td>30.0</td>\n",
       "      <td>57.6</td>\n",
       "      <td>2.0</td>\n",
       "    </tr>\n",
       "    <tr>\n",
       "      <th>4</th>\n",
       "      <td>16990</td>\n",
       "      <td>skoda</td>\n",
       "      <td>2020</td>\n",
       "      <td>Semi-Auto</td>\n",
       "      <td>Petrol</td>\n",
       "      <td>145.0</td>\n",
       "      <td>47.1</td>\n",
       "      <td>1.0</td>\n",
       "    </tr>\n",
       "  </tbody>\n",
       "</table>\n",
       "</div>"
      ],
      "text/plain": [
       "   price     brand  year transmission fuelType    tax  mileage  engineSize\n",
       "0  31995    hyundi  2019    Semi-Auto   Diesel  145.0     39.8         2.2\n",
       "1   7700  vauxhall  2015       Manual   Diesel  125.0     60.1         2.0\n",
       "2  58990      audi  2019    Automatic   Petrol  145.0     29.1         2.9\n",
       "3  12999        vw  2016    Automatic   Diesel   30.0     57.6         2.0\n",
       "4  16990     skoda  2020    Semi-Auto   Petrol  145.0     47.1         1.0"
      ]
     },
     "execution_count": 10,
     "metadata": {},
     "output_type": "execute_result"
    }
   ],
   "source": [
    "# Preview of the data\n",
    "cars.head()"
   ]
  },
  {
   "cell_type": "markdown",
   "id": "a00232a5",
   "metadata": {},
   "source": [
    "### Pre-processing the data"
   ]
  },
  {
   "cell_type": "code",
   "execution_count": 11,
   "id": "38d45596",
   "metadata": {},
   "outputs": [],
   "source": [
    "# Encoding categorical variables\n",
    "cars_encoded = pd.get_dummies(cars, columns=['brand', 'transmission', 'fuelType'])"
   ]
  },
  {
   "cell_type": "markdown",
   "id": "1a6520bd",
   "metadata": {},
   "source": [
    "### Splitting the data"
   ]
  },
  {
   "cell_type": "code",
   "execution_count": 12,
   "id": "1d0e09ec",
   "metadata": {},
   "outputs": [],
   "source": [
    "# Define features (X) and target variable (y)\n",
    "X = cars_encoded.drop('price', axis = 1)\n",
    "y = cars_encoded['price']"
   ]
  },
  {
   "cell_type": "markdown",
   "id": "a867942a",
   "metadata": {},
   "source": [
    "### Training the model"
   ]
  },
  {
   "cell_type": "code",
   "execution_count": 13,
   "id": "663128d4",
   "metadata": {},
   "outputs": [
    {
     "data": {
      "text/html": [
       "<style>#sk-container-id-1 {color: black;background-color: white;}#sk-container-id-1 pre{padding: 0;}#sk-container-id-1 div.sk-toggleable {background-color: white;}#sk-container-id-1 label.sk-toggleable__label {cursor: pointer;display: block;width: 100%;margin-bottom: 0;padding: 0.3em;box-sizing: border-box;text-align: center;}#sk-container-id-1 label.sk-toggleable__label-arrow:before {content: \"▸\";float: left;margin-right: 0.25em;color: #696969;}#sk-container-id-1 label.sk-toggleable__label-arrow:hover:before {color: black;}#sk-container-id-1 div.sk-estimator:hover label.sk-toggleable__label-arrow:before {color: black;}#sk-container-id-1 div.sk-toggleable__content {max-height: 0;max-width: 0;overflow: hidden;text-align: left;background-color: #f0f8ff;}#sk-container-id-1 div.sk-toggleable__content pre {margin: 0.2em;color: black;border-radius: 0.25em;background-color: #f0f8ff;}#sk-container-id-1 input.sk-toggleable__control:checked~div.sk-toggleable__content {max-height: 200px;max-width: 100%;overflow: auto;}#sk-container-id-1 input.sk-toggleable__control:checked~label.sk-toggleable__label-arrow:before {content: \"▾\";}#sk-container-id-1 div.sk-estimator input.sk-toggleable__control:checked~label.sk-toggleable__label {background-color: #d4ebff;}#sk-container-id-1 div.sk-label input.sk-toggleable__control:checked~label.sk-toggleable__label {background-color: #d4ebff;}#sk-container-id-1 input.sk-hidden--visually {border: 0;clip: rect(1px 1px 1px 1px);clip: rect(1px, 1px, 1px, 1px);height: 1px;margin: -1px;overflow: hidden;padding: 0;position: absolute;width: 1px;}#sk-container-id-1 div.sk-estimator {font-family: monospace;background-color: #f0f8ff;border: 1px dotted black;border-radius: 0.25em;box-sizing: border-box;margin-bottom: 0.5em;}#sk-container-id-1 div.sk-estimator:hover {background-color: #d4ebff;}#sk-container-id-1 div.sk-parallel-item::after {content: \"\";width: 100%;border-bottom: 1px solid gray;flex-grow: 1;}#sk-container-id-1 div.sk-label:hover label.sk-toggleable__label {background-color: #d4ebff;}#sk-container-id-1 div.sk-serial::before {content: \"\";position: absolute;border-left: 1px solid gray;box-sizing: border-box;top: 0;bottom: 0;left: 50%;z-index: 0;}#sk-container-id-1 div.sk-serial {display: flex;flex-direction: column;align-items: center;background-color: white;padding-right: 0.2em;padding-left: 0.2em;position: relative;}#sk-container-id-1 div.sk-item {position: relative;z-index: 1;}#sk-container-id-1 div.sk-parallel {display: flex;align-items: stretch;justify-content: center;background-color: white;position: relative;}#sk-container-id-1 div.sk-item::before, #sk-container-id-1 div.sk-parallel-item::before {content: \"\";position: absolute;border-left: 1px solid gray;box-sizing: border-box;top: 0;bottom: 0;left: 50%;z-index: -1;}#sk-container-id-1 div.sk-parallel-item {display: flex;flex-direction: column;z-index: 1;position: relative;background-color: white;}#sk-container-id-1 div.sk-parallel-item:first-child::after {align-self: flex-end;width: 50%;}#sk-container-id-1 div.sk-parallel-item:last-child::after {align-self: flex-start;width: 50%;}#sk-container-id-1 div.sk-parallel-item:only-child::after {width: 0;}#sk-container-id-1 div.sk-dashed-wrapped {border: 1px dashed gray;margin: 0 0.4em 0.5em 0.4em;box-sizing: border-box;padding-bottom: 0.4em;background-color: white;}#sk-container-id-1 div.sk-label label {font-family: monospace;font-weight: bold;display: inline-block;line-height: 1.2em;}#sk-container-id-1 div.sk-label-container {text-align: center;}#sk-container-id-1 div.sk-container {/* jupyter's `normalize.less` sets `[hidden] { display: none; }` but bootstrap.min.css set `[hidden] { display: none !important; }` so we also need the `!important` here to be able to override the default hidden behavior on the sphinx rendered scikit-learn.org. See: https://github.com/scikit-learn/scikit-learn/issues/21755 */display: inline-block !important;position: relative;}#sk-container-id-1 div.sk-text-repr-fallback {display: none;}</style><div id=\"sk-container-id-1\" class=\"sk-top-container\"><div class=\"sk-text-repr-fallback\"><pre>LinearRegression()</pre><b>In a Jupyter environment, please rerun this cell to show the HTML representation or trust the notebook. <br />On GitHub, the HTML representation is unable to render, please try loading this page with nbviewer.org.</b></div><div class=\"sk-container\" hidden><div class=\"sk-item\"><div class=\"sk-estimator sk-toggleable\"><input class=\"sk-toggleable__control sk-hidden--visually\" id=\"sk-estimator-id-1\" type=\"checkbox\" checked><label for=\"sk-estimator-id-1\" class=\"sk-toggleable__label sk-toggleable__label-arrow\">LinearRegression</label><div class=\"sk-toggleable__content\"><pre>LinearRegression()</pre></div></div></div></div></div>"
      ],
      "text/plain": [
       "LinearRegression()"
      ]
     },
     "execution_count": 13,
     "metadata": {},
     "output_type": "execute_result"
    }
   ],
   "source": [
    "# Initialize and train the linear regression model\n",
    "model = LinearRegression()\n",
    "model.fit(X, y)"
   ]
  },
  {
   "cell_type": "markdown",
   "id": "92b10112",
   "metadata": {},
   "source": [
    "### Exporting the model into pickle file"
   ]
  },
  {
   "cell_type": "code",
   "execution_count": 14,
   "id": "5801f762",
   "metadata": {},
   "outputs": [],
   "source": [
    "# Saving the model results in pickle file\n",
    "pickle.dump(model, open('model.pkl', 'wb'))"
   ]
  }
 ],
 "metadata": {
  "kernelspec": {
   "display_name": "Python 3 (ipykernel)",
   "language": "python",
   "name": "python3"
  },
  "language_info": {
   "codemirror_mode": {
    "name": "ipython",
    "version": 3
   },
   "file_extension": ".py",
   "mimetype": "text/x-python",
   "name": "python",
   "nbconvert_exporter": "python",
   "pygments_lexer": "ipython3",
   "version": "3.11.0"
  }
 },
 "nbformat": 4,
 "nbformat_minor": 5
}
